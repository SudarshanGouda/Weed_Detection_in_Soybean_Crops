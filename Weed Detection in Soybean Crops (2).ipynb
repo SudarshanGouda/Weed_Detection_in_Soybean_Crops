{
 "cells": [
  {
   "cell_type": "markdown",
   "id": "d8738601",
   "metadata": {},
   "source": [
    "# Weed Detection in Soybean Crops"
   ]
  },
  {
   "cell_type": "code",
   "execution_count": 17,
   "id": "7a1cb075",
   "metadata": {},
   "outputs": [],
   "source": [
    "from tensorflow.keras.preprocessing.image import ImageDataGenerator\n",
    "import splitfolders\n",
    "import pandas as pd"
   ]
  },
  {
   "cell_type": "markdown",
   "id": "8dfd2e58",
   "metadata": {},
   "source": [
    "## Data Split"
   ]
  },
  {
   "cell_type": "code",
   "execution_count": 2,
   "id": "f97d67b1",
   "metadata": {},
   "outputs": [],
   "source": [
    "input_dir='E:\\\\DATA Science\\\\DEEP LEARNING\\\\CNN\\\\Weed Detection in Soybean Crops\\\\Dataset\\\\dataset'\n",
    "output_dir='E:\\\\DATA Science\\\\DEEP LEARNING\\\\CNN\\\\Weed Detection in Soybean Crops\\\\Dataset\\\\Split_data'"
   ]
  },
  {
   "cell_type": "code",
   "execution_count": 4,
   "id": "07175784",
   "metadata": {},
   "outputs": [],
   "source": [
    "#splitfolders.ratio(input=input_dir,output=output_dir, ratio=(0.8, 0.1, 0.1))"
   ]
  },
  {
   "cell_type": "markdown",
   "id": "cf6b3459",
   "metadata": {},
   "source": [
    "## Data Preparation"
   ]
  },
  {
   "cell_type": "code",
   "execution_count": 5,
   "id": "ea882a76",
   "metadata": {},
   "outputs": [],
   "source": [
    "Datagen=ImageDataGenerator(rescale=1/255)"
   ]
  },
  {
   "cell_type": "code",
   "execution_count": 6,
   "id": "19130981",
   "metadata": {},
   "outputs": [],
   "source": [
    "train_dir='E:\\\\DATA Science\\\\DEEP LEARNING\\\\CNN\\\\Weed Detection in Soybean Crops\\\\Dataset\\\\Split_data\\\\train'\n",
    "test_dir='E:\\\\DATA Science\\\\DEEP LEARNING\\\\CNN\\\\Weed Detection in Soybean Crops\\\\Dataset\\\\Split_data\\\\test'\n",
    "val_dir='E:\\\\DATA Science\\\\DEEP LEARNING\\\\CNN\\\\Weed Detection in Soybean Crops\\\\Dataset\\\\Split_data\\\\val'"
   ]
  },
  {
   "cell_type": "code",
   "execution_count": 7,
   "id": "d1c63868",
   "metadata": {},
   "outputs": [
    {
     "name": "stdout",
     "output_type": "stream",
     "text": [
      "Found 12267 images belonging to 4 classes.\n",
      "Found 1537 images belonging to 4 classes.\n",
      "Found 1532 images belonging to 4 classes.\n"
     ]
    }
   ],
   "source": [
    "train_itt=Datagen.flow_from_directory(train_dir,target_size=(256,256))\n",
    "test_itt=Datagen.flow_from_directory(test_dir,target_size=(256,256))\n",
    "val_itt=Datagen.flow_from_directory(val_dir,target_size=(256,256))"
   ]
  },
  {
   "cell_type": "markdown",
   "id": "72e5aa08",
   "metadata": {},
   "source": [
    "## Model"
   ]
  },
  {
   "cell_type": "code",
   "execution_count": 8,
   "id": "bed7e222",
   "metadata": {},
   "outputs": [],
   "source": [
    "from tensorflow.keras import Sequential\n",
    "from tensorflow.keras.layers import Conv2D,MaxPooling2D,Flatten,Dense"
   ]
  },
  {
   "cell_type": "code",
   "execution_count": 9,
   "id": "84ace542",
   "metadata": {},
   "outputs": [],
   "source": [
    "model=Sequential()"
   ]
  },
  {
   "cell_type": "code",
   "execution_count": 13,
   "id": "bb74e420",
   "metadata": {},
   "outputs": [],
   "source": [
    "model.add(Conv2D(32,(3,3),activation='relu',input_shape=(256,256,3)))\n",
    "model.add(MaxPooling2D((2,2)))\n",
    "model.add(Conv2D(64,(3,3),activation='relu'))\n",
    "model.add(MaxPooling2D((2,2)))\n",
    "\n",
    "model.add(Conv2D(128,(3,3),activation='relu'))\n",
    "model.add(MaxPooling2D((2,2)))\n",
    "          \n",
    "model.add(Flatten())\n",
    "          \n",
    "model.add(Dense(512,activation='relu'))\n",
    "          \n",
    "model.add(Dense(4,activation='softmax'))"
   ]
  },
  {
   "cell_type": "code",
   "execution_count": 14,
   "id": "3a8f04f7",
   "metadata": {},
   "outputs": [],
   "source": [
    "model.compile(loss='categorical_crossentropy',optimizer='adam',\n",
    "             metrics=['accuracy'])"
   ]
  },
  {
   "cell_type": "code",
   "execution_count": 15,
   "id": "ff6f5419",
   "metadata": {},
   "outputs": [
    {
     "name": "stdout",
     "output_type": "stream",
     "text": [
      "Epoch 1/8\n",
      "384/384 [==============================] - 1323s 3s/step - loss: 0.5902 - accuracy: 0.8000 - val_loss: 0.2933 - val_accuracy: 0.8943\n",
      "Epoch 2/8\n",
      "384/384 [==============================] - 1275s 3s/step - loss: 0.2798 - accuracy: 0.8977 - val_loss: 0.2213 - val_accuracy: 0.9158\n",
      "Epoch 3/8\n",
      "384/384 [==============================] - 1272s 3s/step - loss: 0.2001 - accuracy: 0.9280 - val_loss: 0.2332 - val_accuracy: 0.9106\n",
      "Epoch 4/8\n",
      "384/384 [==============================] - 1268s 3s/step - loss: 0.1163 - accuracy: 0.9566 - val_loss: 0.2072 - val_accuracy: 0.9236\n",
      "Epoch 5/8\n",
      "384/384 [==============================] - 1271s 3s/step - loss: 0.0864 - accuracy: 0.9705 - val_loss: 0.2440 - val_accuracy: 0.9138\n",
      "Epoch 6/8\n",
      "384/384 [==============================] - 1271s 3s/step - loss: 0.0357 - accuracy: 0.9875 - val_loss: 0.2952 - val_accuracy: 0.9178\n",
      "Epoch 7/8\n",
      "384/384 [==============================] - 1271s 3s/step - loss: 0.0320 - accuracy: 0.9903 - val_loss: 0.3325 - val_accuracy: 0.8988\n",
      "Epoch 8/8\n",
      "384/384 [==============================] - 1276s 3s/step - loss: 0.0179 - accuracy: 0.9948 - val_loss: 0.5403 - val_accuracy: 0.8884\n"
     ]
    },
    {
     "data": {
      "text/plain": [
       "<keras.callbacks.History at 0x19923efe8b0>"
      ]
     },
     "execution_count": 15,
     "metadata": {},
     "output_type": "execute_result"
    }
   ],
   "source": [
    "model.fit(train_itt,validation_data=val_itt,epochs=8)"
   ]
  },
  {
   "cell_type": "code",
   "execution_count": 18,
   "id": "0f17122f",
   "metadata": {},
   "outputs": [],
   "source": [
    "losses= pd.DataFrame(model.history.history)"
   ]
  },
  {
   "cell_type": "code",
   "execution_count": 19,
   "id": "f9bed80f",
   "metadata": {},
   "outputs": [
    {
     "data": {
      "text/plain": [
       "<AxesSubplot:>"
      ]
     },
     "execution_count": 19,
     "metadata": {},
     "output_type": "execute_result"
    },
    {
     "data": {
      "image/png": "[encoded data removed]",
      "text/plain": [
       "<Figure size 432x288 with 1 Axes>"
      ]
     },
     "metadata": {
      "needs_background": "light"
     },
     "output_type": "display_data"
    }
   ],
   "source": [
    "losses.plot()"
   ]
  },
  {
   "cell_type": "code",
   "execution_count": 20,
   "id": "72fc0814",
   "metadata": {},
   "outputs": [],
   "source": [
    "from sklearn.metrics import accuracy_score,confusion_matrix"
   ]
  },
  {
   "cell_type": "code",
   "execution_count": 21,
   "id": "d0eef806",
   "metadata": {},
   "outputs": [
    {
     "name": "stdout",
     "output_type": "stream",
     "text": [
      "49/49 [==============================] - 53s 1s/step - loss: 0.6006 - accuracy: 0.8751\n"
     ]
    }
   ],
   "source": [
    "prediction= model.evaluate(test_itt)"
   ]
  },
  {
   "cell_type": "code",
   "execution_count": 22,
   "id": "2d97e8f7",
   "metadata": {},
   "outputs": [
    {
     "data": {
      "text/plain": [
       "{'broadleaf': 0, 'grass': 1, 'soil': 2, 'soybean': 3}"
      ]
     },
     "execution_count": 22,
     "metadata": {},
     "output_type": "execute_result"
    }
   ],
   "source": [
    "class_label=test_itt.class_indices\n",
    "class_label"
   ]
  },
  {
   "cell_type": "code",
   "execution_count": 23,
   "id": "397f23b1",
   "metadata": {},
   "outputs": [],
   "source": [
    "model.save('weed_detection_modee.h5')"
   ]
  }
 ],
 "metadata": {
  "kernelspec": {
   "display_name": "Python 3 (ipykernel)",
   "language": "python",
   "name": "python3"
  },
  "language_info": {
   "codemirror_mode": {
    "name": "ipython",
    "version": 3
   },
   "file_extension": ".py",
   "mimetype": "text/x-python",
   "name": "python",
   "nbconvert_exporter": "python",
   "pygments_lexer": "ipython3",
   "version": "3.9.12"
  }
 },
 "nbformat": 4,
 "nbformat_minor": 5
}
